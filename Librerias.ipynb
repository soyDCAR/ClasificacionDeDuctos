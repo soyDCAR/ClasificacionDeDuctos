{
 "cells": [
  {
   "cell_type": "code",
   "execution_count": 7,
   "metadata": {},
   "outputs": [
    {
     "name": "stdout",
     "output_type": "stream",
     "text": [
      "Defaulting to user installation because normal site-packages is not writeable\n",
      "Collecting opencv-python\n",
      "  Downloading opencv-python-4.11.0.86.tar.gz (95.2 MB)\n",
      "\u001b[K     |████████████████████████████████| 95.2 MB 32 kB/s  eta 0:00:01    |█                               | 2.9 MB 1.7 MB/s eta 0:00:56     |█▏                              | 3.6 MB 1.7 MB/s eta 0:00:56     |█▌                              | 4.4 MB 1.7 MB/s eta 0:00:55     |███▊                            | 10.9 MB 1.0 MB/s eta 0:01:22     |█████▌                          | 16.5 MB 970 kB/s eta 0:01:22     |█████▋                          | 16.7 MB 970 kB/s eta 0:01:21     |█████▋                          | 16.8 MB 970 kB/s eta 0:01:21     |████████▋                       | 25.5 MB 1.1 MB/s eta 0:01:02     |███████████▍                    | 33.7 MB 1.7 MB/s eta 0:00:37     |█████████████▏                  | 39.1 MB 2.2 MB/s eta 0:00:26     |███████████████▊                | 46.9 MB 2.2 MB/s eta 0:00:22     |█████████████████               | 50.9 MB 4.3 MB/s eta 0:00:11     |██████████████████▊             | 55.8 MB 3.4 MB/s eta 0:00:12     |███████████████████▌            | 58.0 MB 3.4 MB/s eta 0:00:12     |█████████████████████████▉      | 76.7 MB 2.2 MB/s eta 0:00:09\n",
      "\u001b[?25h\u001b[33m  WARNING: Value for prefixed-purelib does not match. Please report this to <https://github.com/pypa/pip/issues/10151>\n",
      "  distutils: /private/var/folders/jv/c_5xb_f96f1fz7_838csts3m0000gn/T/pip-build-env-f_rpq3_6/normal/lib/python3.9/site-packages\n",
      "  sysconfig: /Library/Python/3.9/site-packages\u001b[0m\n",
      "\u001b[33m  WARNING: Value for prefixed-platlib does not match. Please report this to <https://github.com/pypa/pip/issues/10151>\n",
      "  distutils: /private/var/folders/jv/c_5xb_f96f1fz7_838csts3m0000gn/T/pip-build-env-f_rpq3_6/normal/lib/python3.9/site-packages\n",
      "  sysconfig: /Library/Python/3.9/site-packages\u001b[0m\n",
      "\u001b[33m  WARNING: Additional context:\n",
      "  user = False\n",
      "  home = None\n",
      "  root = None\n",
      "  prefix = '/private/var/folders/jv/c_5xb_f96f1fz7_838csts3m0000gn/T/pip-build-env-f_rpq3_6/normal'\u001b[0m\n",
      "\u001b[33m  WARNING: Value for prefixed-purelib does not match. Please report this to <https://github.com/pypa/pip/issues/10151>\n",
      "  distutils: /private/var/folders/jv/c_5xb_f96f1fz7_838csts3m0000gn/T/pip-build-env-f_rpq3_6/overlay/lib/python3.9/site-packages\n",
      "  sysconfig: /Library/Python/3.9/site-packages\u001b[0m\n",
      "\u001b[33m  WARNING: Value for prefixed-platlib does not match. Please report this to <https://github.com/pypa/pip/issues/10151>\n",
      "  distutils: /private/var/folders/jv/c_5xb_f96f1fz7_838csts3m0000gn/T/pip-build-env-f_rpq3_6/overlay/lib/python3.9/site-packages\n",
      "  sysconfig: /Library/Python/3.9/site-packages\u001b[0m\n",
      "\u001b[33m  WARNING: Additional context:\n",
      "  user = False\n",
      "  home = None\n",
      "  root = None\n",
      "  prefix = '/private/var/folders/jv/c_5xb_f96f1fz7_838csts3m0000gn/T/pip-build-env-f_rpq3_6/overlay'\u001b[0m\n",
      "  Installing build dependencies ... \u001b[?25ldone\n",
      "\u001b[?25h  Getting requirements to build wheel ... \u001b[?25ldone\n",
      "\u001b[?25h  Installing backend dependencies ... \u001b[?25ldone\n",
      "\u001b[?25h    Preparing wheel metadata ... \u001b[?25ldone\n",
      "\u001b[?25hCollecting numpy>=1.17.3\n",
      "  Using cached numpy-2.0.2-cp39-cp39-macosx_10_9_x86_64.whl (21.2 MB)\n",
      "Building wheels for collected packages: opencv-python\n",
      "  Building wheel for opencv-python (PEP 517) ... \u001b[?25l/^C\n",
      "Note: you may need to restart the kernel to use updated packages.\n"
     ]
    }
   ],
   "source": [
    "pip install opencv-python"
   ]
  },
  {
   "cell_type": "code",
   "execution_count": 1,
   "metadata": {},
   "outputs": [
    {
     "name": "stdout",
     "output_type": "stream",
     "text": [
      "Defaulting to user installation because normal site-packages is not writeable\n",
      "Collecting transformers\n",
      "  Using cached transformers-4.52.3-py3-none-any.whl (10.5 MB)\n",
      "Collecting tqdm\n",
      "  Using cached tqdm-4.67.1-py3-none-any.whl (78 kB)\n",
      "Collecting pycocotools\n",
      "  Using cached pycocotools-2.0.8-cp39-cp39-macosx_10_9_universal2.whl (163 kB)\n",
      "Collecting huggingface-hub<1.0,>=0.30.0\n",
      "  Downloading huggingface_hub-0.32.2-py3-none-any.whl (509 kB)\n",
      "\u001b[K     |████████████████████████████████| 509 kB 2.5 MB/s eta 0:00:01\n",
      "\u001b[?25hCollecting requests\n",
      "  Using cached requests-2.32.3-py3-none-any.whl (64 kB)\n",
      "Collecting pyyaml>=5.1\n",
      "  Using cached PyYAML-6.0.2-cp39-cp39-macosx_10_9_x86_64.whl (184 kB)\n",
      "Requirement already satisfied: packaging>=20.0 in /Users/dilanacosta/Library/Python/3.9/lib/python/site-packages (from transformers) (25.0)\n",
      "Requirement already satisfied: filelock in /Users/dilanacosta/Library/Python/3.9/lib/python/site-packages (from transformers) (3.18.0)\n",
      "Collecting regex!=2019.12.17\n",
      "  Using cached regex-2024.11.6-cp39-cp39-macosx_10_9_x86_64.whl (287 kB)\n",
      "Collecting tokenizers<0.22,>=0.21\n",
      "  Using cached tokenizers-0.21.1-cp39-abi3-macosx_10_12_x86_64.whl (2.8 MB)\n",
      "Collecting numpy>=1.17\n",
      "  Using cached numpy-2.0.2-cp39-cp39-macosx_10_9_x86_64.whl (21.2 MB)\n",
      "Collecting safetensors>=0.4.3\n",
      "  Using cached safetensors-0.5.3-cp38-abi3-macosx_10_12_x86_64.whl (436 kB)\n",
      "Collecting matplotlib>=2.1.0\n",
      "  Using cached matplotlib-3.9.4-cp39-cp39-macosx_10_12_x86_64.whl (7.9 MB)\n",
      "Requirement already satisfied: typing-extensions>=3.7.4.3 in /Users/dilanacosta/Library/Python/3.9/lib/python/site-packages (from huggingface-hub<1.0,>=0.30.0->transformers) (4.13.2)\n",
      "Collecting hf-xet<2.0.0,>=1.1.2\n",
      "  Using cached hf_xet-1.1.2-cp37-abi3-macosx_10_12_x86_64.whl (2.6 MB)\n",
      "Requirement already satisfied: fsspec>=2023.5.0 in /Users/dilanacosta/Library/Python/3.9/lib/python/site-packages (from huggingface-hub<1.0,>=0.30.0->transformers) (2025.5.1)\n",
      "Collecting pyparsing>=2.3.1\n",
      "  Using cached pyparsing-3.2.3-py3-none-any.whl (111 kB)\n",
      "Collecting importlib-resources>=3.2.0\n",
      "  Using cached importlib_resources-6.5.2-py3-none-any.whl (37 kB)\n",
      "Requirement already satisfied: python-dateutil>=2.7 in /Users/dilanacosta/Library/Python/3.9/lib/python/site-packages (from matplotlib>=2.1.0->pycocotools) (2.9.0.post0)\n",
      "Collecting fonttools>=4.22.0\n",
      "  Using cached fonttools-4.58.0-cp39-cp39-macosx_10_9_x86_64.whl (2.3 MB)\n",
      "Collecting pillow>=8\n",
      "  Using cached pillow-11.2.1-cp39-cp39-macosx_10_10_x86_64.whl (3.2 MB)\n",
      "Collecting contourpy>=1.0.1\n",
      "  Using cached contourpy-1.3.0-cp39-cp39-macosx_10_9_x86_64.whl (265 kB)\n",
      "Collecting kiwisolver>=1.3.1\n",
      "  Using cached kiwisolver-1.4.7-cp39-cp39-macosx_10_9_x86_64.whl (65 kB)\n",
      "Collecting cycler>=0.10\n",
      "  Using cached cycler-0.12.1-py3-none-any.whl (8.3 kB)\n",
      "Requirement already satisfied: zipp>=3.1.0 in /Users/dilanacosta/Library/Python/3.9/lib/python/site-packages (from importlib-resources>=3.2.0->matplotlib>=2.1.0->pycocotools) (3.22.0)\n",
      "Requirement already satisfied: six>=1.5 in /Library/Developer/CommandLineTools/Library/Frameworks/Python3.framework/Versions/3.9/lib/python3.9/site-packages (from python-dateutil>=2.7->matplotlib>=2.1.0->pycocotools) (1.15.0)\n",
      "Collecting certifi>=2017.4.17\n",
      "  Using cached certifi-2025.4.26-py3-none-any.whl (159 kB)\n",
      "Collecting urllib3<3,>=1.21.1\n",
      "  Using cached urllib3-2.4.0-py3-none-any.whl (128 kB)\n",
      "Collecting idna<4,>=2.5\n",
      "  Using cached idna-3.10-py3-none-any.whl (70 kB)\n",
      "Collecting charset-normalizer<4,>=2\n",
      "  Using cached charset_normalizer-3.4.2-cp39-cp39-macosx_10_9_universal2.whl (201 kB)\n",
      "Installing collected packages: urllib3, idna, charset-normalizer, certifi, tqdm, requests, pyyaml, numpy, hf-xet, pyparsing, pillow, kiwisolver, importlib-resources, huggingface-hub, fonttools, cycler, contourpy, tokenizers, safetensors, regex, matplotlib, transformers, pycocotools\n",
      "Successfully installed certifi-2025.4.26 charset-normalizer-3.4.2 contourpy-1.3.0 cycler-0.12.1 fonttools-4.58.0 hf-xet-1.1.2 huggingface-hub-0.32.2 idna-3.10 importlib-resources-6.5.2 kiwisolver-1.4.7 matplotlib-3.9.4 numpy-2.0.2 pillow-11.2.1 pycocotools-2.0.8 pyparsing-3.2.3 pyyaml-6.0.2 regex-2024.11.6 requests-2.32.3 safetensors-0.5.3 tokenizers-0.21.1 tqdm-4.67.1 transformers-4.52.3 urllib3-2.4.0\n",
      "\u001b[33mWARNING: You are using pip version 21.2.4; however, version 25.1.1 is available.\n",
      "You should consider upgrading via the '/Library/Developer/CommandLineTools/usr/bin/python3 -m pip install --upgrade pip' command.\u001b[0m\n",
      "Note: you may need to restart the kernel to use updated packages.\n"
     ]
    }
   ],
   "source": [
    "pip install transformers tqdm pycocotools"
   ]
  },
  {
   "cell_type": "code",
   "execution_count": 2,
   "metadata": {},
   "outputs": [
    {
     "name": "stdout",
     "output_type": "stream",
     "text": [
      "Defaulting to user installation because normal site-packages is not writeable\n",
      "Requirement already satisfied: torch in /Users/dilanacosta/Library/Python/3.9/lib/python/site-packages (2.2.2)\n",
      "Collecting torchvision\n",
      "  Using cached torchvision-0.17.2-cp39-cp39-macosx_10_13_x86_64.whl (1.7 MB)\n",
      "Collecting torchaudio\n",
      "  Downloading torchaudio-2.2.2-cp39-cp39-macosx_10_13_x86_64.whl (3.4 MB)\n",
      "\u001b[K     |████████████████████████████████| 3.4 MB 3.6 MB/s eta 0:00:01\n",
      "\u001b[?25hRequirement already satisfied: filelock in /Users/dilanacosta/Library/Python/3.9/lib/python/site-packages (from torch) (3.18.0)\n",
      "Requirement already satisfied: jinja2 in /Users/dilanacosta/Library/Python/3.9/lib/python/site-packages (from torch) (3.1.6)\n",
      "Requirement already satisfied: typing-extensions>=4.8.0 in /Users/dilanacosta/Library/Python/3.9/lib/python/site-packages (from torch) (4.13.2)\n",
      "Requirement already satisfied: networkx in /Users/dilanacosta/Library/Python/3.9/lib/python/site-packages (from torch) (3.2.1)\n",
      "Requirement already satisfied: fsspec in /Users/dilanacosta/Library/Python/3.9/lib/python/site-packages (from torch) (2025.5.1)\n",
      "Requirement already satisfied: sympy in /Users/dilanacosta/Library/Python/3.9/lib/python/site-packages (from torch) (1.14.0)\n",
      "Requirement already satisfied: numpy in /Users/dilanacosta/Library/Python/3.9/lib/python/site-packages (from torchvision) (2.0.2)\n",
      "Requirement already satisfied: pillow!=8.3.*,>=5.3.0 in /Users/dilanacosta/Library/Python/3.9/lib/python/site-packages (from torchvision) (11.2.1)\n",
      "Requirement already satisfied: MarkupSafe>=2.0 in /Users/dilanacosta/Library/Python/3.9/lib/python/site-packages (from jinja2->torch) (3.0.2)\n",
      "Requirement already satisfied: mpmath<1.4,>=1.1.0 in /Users/dilanacosta/Library/Python/3.9/lib/python/site-packages (from sympy->torch) (1.3.0)\n",
      "Installing collected packages: torchvision, torchaudio\n",
      "Successfully installed torchaudio-2.2.2 torchvision-0.17.2\n",
      "\u001b[33mWARNING: You are using pip version 21.2.4; however, version 25.1.1 is available.\n",
      "You should consider upgrading via the '/Library/Developer/CommandLineTools/usr/bin/python3 -m pip install --upgrade pip' command.\u001b[0m\n",
      "Note: you may need to restart the kernel to use updated packages.\n"
     ]
    }
   ],
   "source": [
    "pip install torch torchvision torchaudio"
   ]
  },
  {
   "cell_type": "code",
   "execution_count": 3,
   "metadata": {},
   "outputs": [
    {
     "name": "stdout",
     "output_type": "stream",
     "text": [
      "Defaulting to user installation because normal site-packages is not writeable\n",
      "Collecting opencv-python\n",
      "  Using cached opencv-python-4.11.0.86.tar.gz (95.2 MB)\n",
      "\u001b[33m  WARNING: Value for prefixed-purelib does not match. Please report this to <https://github.com/pypa/pip/issues/10151>\n",
      "  distutils: /private/var/folders/jv/c_5xb_f96f1fz7_838csts3m0000gn/T/pip-build-env-sfwkk_ji/normal/lib/python3.9/site-packages\n",
      "  sysconfig: /Library/Python/3.9/site-packages\u001b[0m\n",
      "\u001b[33m  WARNING: Value for prefixed-platlib does not match. Please report this to <https://github.com/pypa/pip/issues/10151>\n",
      "  distutils: /private/var/folders/jv/c_5xb_f96f1fz7_838csts3m0000gn/T/pip-build-env-sfwkk_ji/normal/lib/python3.9/site-packages\n",
      "  sysconfig: /Library/Python/3.9/site-packages\u001b[0m\n",
      "\u001b[33m  WARNING: Additional context:\n",
      "  user = False\n",
      "  home = None\n",
      "  root = None\n",
      "  prefix = '/private/var/folders/jv/c_5xb_f96f1fz7_838csts3m0000gn/T/pip-build-env-sfwkk_ji/normal'\u001b[0m\n",
      "\u001b[33m  WARNING: Value for prefixed-purelib does not match. Please report this to <https://github.com/pypa/pip/issues/10151>\n",
      "  distutils: /private/var/folders/jv/c_5xb_f96f1fz7_838csts3m0000gn/T/pip-build-env-sfwkk_ji/overlay/lib/python3.9/site-packages\n",
      "  sysconfig: /Library/Python/3.9/site-packages\u001b[0m\n",
      "\u001b[33m  WARNING: Value for prefixed-platlib does not match. Please report this to <https://github.com/pypa/pip/issues/10151>\n",
      "  distutils: /private/var/folders/jv/c_5xb_f96f1fz7_838csts3m0000gn/T/pip-build-env-sfwkk_ji/overlay/lib/python3.9/site-packages\n",
      "  sysconfig: /Library/Python/3.9/site-packages\u001b[0m\n",
      "\u001b[33m  WARNING: Additional context:\n",
      "  user = False\n",
      "  home = None\n",
      "  root = None\n",
      "  prefix = '/private/var/folders/jv/c_5xb_f96f1fz7_838csts3m0000gn/T/pip-build-env-sfwkk_ji/overlay'\u001b[0m\n",
      "  Installing build dependencies ... \u001b[?25ldone\n",
      "\u001b[?25h  Getting requirements to build wheel ... \u001b[?25ldone\n",
      "\u001b[?25h  Installing backend dependencies ... \u001b[?25ldone\n",
      "\u001b[?25h    Preparing wheel metadata ... \u001b[?25ldone\n",
      "\u001b[?25hRequirement already satisfied: pillow in /Users/dilanacosta/Library/Python/3.9/lib/python/site-packages (11.2.1)\n",
      "Requirement already satisfied: numpy in /Users/dilanacosta/Library/Python/3.9/lib/python/site-packages (2.0.2)\n",
      "\u001b[31mERROR: Could not find a version that satisfies the requirement groundingdino (from versions: none)\u001b[0m\n",
      "\u001b[31mERROR: No matching distribution found for groundingdino\u001b[0m\n",
      "\u001b[33mWARNING: You are using pip version 21.2.4; however, version 25.1.1 is available.\n",
      "You should consider upgrading via the '/Library/Developer/CommandLineTools/usr/bin/python3 -m pip install --upgrade pip' command.\u001b[0m\n",
      "Note: you may need to restart the kernel to use updated packages.\n"
     ]
    }
   ],
   "source": [
    "pip install opencv-python pillow numpy groundingdino"
   ]
  },
  {
   "cell_type": "code",
   "execution_count": 9,
   "metadata": {},
   "outputs": [
    {
     "name": "stdout",
     "output_type": "stream",
     "text": [
      "Defaulting to user installation because normal site-packages is not writeable\n",
      "Collecting git+https://github.com/IDEA-Research/GroundingDINO.git\n",
      "  Cloning https://github.com/IDEA-Research/GroundingDINO.git to /private/var/folders/jv/c_5xb_f96f1fz7_838csts3m0000gn/T/pip-req-build-or6sxxwc\n",
      "  Running command git clone -q https://github.com/IDEA-Research/GroundingDINO.git /private/var/folders/jv/c_5xb_f96f1fz7_838csts3m0000gn/T/pip-req-build-or6sxxwc\n",
      "  Resolved https://github.com/IDEA-Research/GroundingDINO.git to commit 856dde20aee659246248e20734ef9ba5214f5e44\n",
      "Collecting torch\n",
      "  Using cached torch-2.2.2-cp39-none-macosx_10_9_x86_64.whl (150.8 MB)\n",
      "Collecting torchvision\n",
      "  Downloading torchvision-0.17.2-cp39-cp39-macosx_10_13_x86_64.whl (1.7 MB)\n",
      "\u001b[K     |████████████████████████████████| 1.7 MB 2.4 MB/s eta 0:00:01     |███████████████████▉            | 1.0 MB 2.4 MB/s eta 0:00:01\n",
      "\u001b[?25hCollecting transformers\n",
      "  Downloading transformers-4.52.3-py3-none-any.whl (10.5 MB)\n",
      "\u001b[K     |████████████████████████████████| 10.5 MB 161 kB/s eta 0:00:01     |██████████████                  | 4.6 MB 13.6 MB/s eta 0:00:01     |███████████████████▎            | 6.3 MB 13.6 MB/s eta 0:00:01\n",
      "\u001b[?25hCollecting addict\n",
      "  Downloading addict-2.4.0-py3-none-any.whl (3.8 kB)\n",
      "Collecting yapf\n",
      "  Downloading yapf-0.43.0-py3-none-any.whl (256 kB)\n",
      "\u001b[K     |████████████████████████████████| 256 kB 20.0 MB/s eta 0:00:01\n",
      "\u001b[?25hCollecting timm\n",
      "  Downloading timm-1.0.15-py3-none-any.whl (2.4 MB)\n",
      "\u001b[K     |████████████████████████████████| 2.4 MB 21.8 MB/s eta 0:00:01\n",
      "\u001b[?25hCollecting numpy\n",
      "  Using cached numpy-2.0.2-cp39-cp39-macosx_10_9_x86_64.whl (21.2 MB)\n",
      "Collecting opencv-python\n",
      "  Using cached opencv-python-4.11.0.86.tar.gz (95.2 MB)\n",
      "\u001b[33m  WARNING: Value for prefixed-purelib does not match. Please report this to <https://github.com/pypa/pip/issues/10151>\n",
      "  distutils: /private/var/folders/jv/c_5xb_f96f1fz7_838csts3m0000gn/T/pip-build-env-qh37rglw/normal/lib/python3.9/site-packages\n",
      "  sysconfig: /Library/Python/3.9/site-packages\u001b[0m\n",
      "\u001b[33m  WARNING: Value for prefixed-platlib does not match. Please report this to <https://github.com/pypa/pip/issues/10151>\n",
      "  distutils: /private/var/folders/jv/c_5xb_f96f1fz7_838csts3m0000gn/T/pip-build-env-qh37rglw/normal/lib/python3.9/site-packages\n",
      "  sysconfig: /Library/Python/3.9/site-packages\u001b[0m\n",
      "\u001b[33m  WARNING: Additional context:\n",
      "  user = False\n",
      "  home = None\n",
      "  root = None\n",
      "  prefix = '/private/var/folders/jv/c_5xb_f96f1fz7_838csts3m0000gn/T/pip-build-env-qh37rglw/normal'\u001b[0m\n",
      "\u001b[33m  WARNING: Value for prefixed-purelib does not match. Please report this to <https://github.com/pypa/pip/issues/10151>\n",
      "  distutils: /private/var/folders/jv/c_5xb_f96f1fz7_838csts3m0000gn/T/pip-build-env-qh37rglw/overlay/lib/python3.9/site-packages\n",
      "  sysconfig: /Library/Python/3.9/site-packages\u001b[0m\n",
      "\u001b[33m  WARNING: Value for prefixed-platlib does not match. Please report this to <https://github.com/pypa/pip/issues/10151>\n",
      "  distutils: /private/var/folders/jv/c_5xb_f96f1fz7_838csts3m0000gn/T/pip-build-env-qh37rglw/overlay/lib/python3.9/site-packages\n",
      "  sysconfig: /Library/Python/3.9/site-packages\u001b[0m\n",
      "\u001b[33m  WARNING: Additional context:\n",
      "  user = False\n",
      "  home = None\n",
      "  root = None\n",
      "  prefix = '/private/var/folders/jv/c_5xb_f96f1fz7_838csts3m0000gn/T/pip-build-env-qh37rglw/overlay'\u001b[0m\n",
      "  Installing build dependencies ... \u001b[?25ldone\n",
      "\u001b[?25h  Getting requirements to build wheel ... \u001b[?25ldone\n",
      "\u001b[?25h  Installing backend dependencies ... \u001b[?25ldone\n",
      "\u001b[?25h    Preparing wheel metadata ... \u001b[?25ldone\n",
      "\u001b[?25hCollecting supervision>=0.22.0\n",
      "  Downloading supervision-0.25.1-py3-none-any.whl (181 kB)\n",
      "\u001b[K     |████████████████████████████████| 181 kB 16.6 MB/s eta 0:00:01\n",
      "\u001b[?25hCollecting pycocotools\n",
      "  Downloading pycocotools-2.0.8-cp39-cp39-macosx_10_9_universal2.whl (163 kB)\n",
      "\u001b[K     |████████████████████████████████| 163 kB 14.7 MB/s eta 0:00:01\n",
      "\u001b[?25hCollecting defusedxml<0.8.0,>=0.7.1\n",
      "  Downloading defusedxml-0.7.1-py2.py3-none-any.whl (25 kB)\n",
      "Collecting matplotlib>=3.6.0\n",
      "  Downloading matplotlib-3.9.4-cp39-cp39-macosx_10_12_x86_64.whl (7.9 MB)\n",
      "\u001b[K     |████████████████████████████████| 7.9 MB 5.9 MB/s eta 0:00:01\n",
      "\u001b[?25hCollecting contourpy>=1.0.7\n",
      "  Downloading contourpy-1.3.0-cp39-cp39-macosx_10_9_x86_64.whl (265 kB)\n",
      "\u001b[K     |████████████████████████████████| 265 kB 2.8 MB/s eta 0:00:01\n",
      "\u001b[?25hCollecting pillow>=9.4\n",
      "  Downloading pillow-11.2.1-cp39-cp39-macosx_10_10_x86_64.whl (3.2 MB)\n",
      "\u001b[K     |████████████████████████████████| 3.2 MB 12.6 MB/s eta 0:00:01\n",
      "\u001b[?25hCollecting pyyaml>=5.3\n",
      "  Downloading PyYAML-6.0.2-cp39-cp39-macosx_10_9_x86_64.whl (184 kB)\n",
      "\u001b[K     |████████████████████████████████| 184 kB 19.8 MB/s eta 0:00:01\n",
      "\u001b[?25hCollecting requests>=2.26.0\n",
      "  Downloading requests-2.32.3-py3-none-any.whl (64 kB)\n",
      "\u001b[K     |████████████████████████████████| 64 kB 7.3 MB/s  eta 0:00:01\n",
      "\u001b[?25hCollecting scipy<2.0.0,>=1.10.0\n",
      "  Downloading scipy-1.13.1-cp39-cp39-macosx_10_9_x86_64.whl (39.4 MB)\n",
      "\u001b[K     |████████████████████████████████| 39.4 MB 251 kB/s eta 0:00:012     |██████████████████▎             | 22.4 MB 161 kB/s eta 0:01:46\n",
      "\u001b[?25hCollecting tqdm>=4.62.3\n",
      "  Downloading tqdm-4.67.1-py3-none-any.whl (78 kB)\n",
      "\u001b[K     |████████████████████████████████| 78 kB 8.9 MB/s  eta 0:00:01\n",
      "\u001b[?25hCollecting kiwisolver>=1.3.1\n",
      "  Downloading kiwisolver-1.4.7-cp39-cp39-macosx_10_9_x86_64.whl (65 kB)\n",
      "\u001b[K     |████████████████████████████████| 65 kB 4.1 MB/s eta 0:00:01\n",
      "\u001b[?25hCollecting pyparsing>=2.3.1\n",
      "  Downloading pyparsing-3.2.3-py3-none-any.whl (111 kB)\n",
      "\u001b[K     |████████████████████████████████| 111 kB 12.8 MB/s eta 0:00:01\n",
      "\u001b[?25hCollecting fonttools>=4.22.0\n",
      "  Downloading fonttools-4.58.0-cp39-cp39-macosx_10_9_x86_64.whl (2.3 MB)\n",
      "\u001b[K     |████████████████████████████████| 2.3 MB 6.2 MB/s eta 0:00:01\n",
      "\u001b[?25hRequirement already satisfied: packaging>=20.0 in /Users/dilanacosta/Library/Python/3.9/lib/python/site-packages (from matplotlib>=3.6.0->supervision>=0.22.0->groundingdino==0.1.0) (25.0)\n",
      "Requirement already satisfied: python-dateutil>=2.7 in /Users/dilanacosta/Library/Python/3.9/lib/python/site-packages (from matplotlib>=3.6.0->supervision>=0.22.0->groundingdino==0.1.0) (2.9.0.post0)\n",
      "Collecting importlib-resources>=3.2.0\n",
      "  Downloading importlib_resources-6.5.2-py3-none-any.whl (37 kB)\n",
      "Collecting cycler>=0.10\n",
      "  Downloading cycler-0.12.1-py3-none-any.whl (8.3 kB)\n",
      "Requirement already satisfied: zipp>=3.1.0 in /Users/dilanacosta/Library/Python/3.9/lib/python/site-packages (from importlib-resources>=3.2.0->matplotlib>=3.6.0->supervision>=0.22.0->groundingdino==0.1.0) (3.22.0)\n",
      "Requirement already satisfied: six>=1.5 in /Library/Developer/CommandLineTools/Library/Frameworks/Python3.framework/Versions/3.9/lib/python3.9/site-packages (from python-dateutil>=2.7->matplotlib>=3.6.0->supervision>=0.22.0->groundingdino==0.1.0) (1.15.0)\n",
      "Collecting idna<4,>=2.5\n",
      "  Downloading idna-3.10-py3-none-any.whl (70 kB)\n",
      "\u001b[K     |████████████████████████████████| 70 kB 6.7 MB/s  eta 0:00:01\n",
      "\u001b[?25hCollecting certifi>=2017.4.17\n",
      "  Downloading certifi-2025.4.26-py3-none-any.whl (159 kB)\n",
      "\u001b[K     |████████████████████████████████| 159 kB 8.8 MB/s eta 0:00:01\n",
      "\u001b[?25hCollecting charset-normalizer<4,>=2\n",
      "  Downloading charset_normalizer-3.4.2-cp39-cp39-macosx_10_9_universal2.whl (201 kB)\n",
      "\u001b[K     |████████████████████████████████| 201 kB 9.9 MB/s eta 0:00:01\n",
      "\u001b[?25hCollecting urllib3<3,>=1.21.1\n",
      "  Downloading urllib3-2.4.0-py3-none-any.whl (128 kB)\n",
      "\u001b[K     |████████████████████████████████| 128 kB 25.6 MB/s eta 0:00:01\n",
      "\u001b[?25hCollecting huggingface_hub\n",
      "  Downloading huggingface_hub-0.32.1-py3-none-any.whl (509 kB)\n",
      "\u001b[K     |████████████████████████████████| 509 kB 9.0 MB/s eta 0:00:01\n",
      "\u001b[?25hCollecting safetensors\n",
      "  Downloading safetensors-0.5.3-cp38-abi3-macosx_10_12_x86_64.whl (436 kB)\n",
      "\u001b[K     |████████████████████████████████| 436 kB 15.2 MB/s eta 0:00:01    |███                             | 40 kB 12.3 MB/s eta 0:00:01\n",
      "\u001b[?25hCollecting fsspec>=2023.5.0\n",
      "  Using cached fsspec-2025.5.1-py3-none-any.whl (199 kB)\n",
      "Collecting hf-xet<2.0.0,>=1.1.2\n",
      "  Downloading hf_xet-1.1.2-cp37-abi3-macosx_10_12_x86_64.whl (2.6 MB)\n",
      "\u001b[K     |████████████████████████████████| 2.6 MB 13.2 MB/s eta 0:00:01\n",
      "\u001b[?25hRequirement already satisfied: typing-extensions>=3.7.4.3 in /Users/dilanacosta/Library/Python/3.9/lib/python/site-packages (from huggingface_hub->timm->groundingdino==0.1.0) (4.13.2)\n",
      "Collecting filelock\n",
      "  Using cached filelock-3.18.0-py3-none-any.whl (16 kB)\n",
      "Collecting sympy\n",
      "  Using cached sympy-1.14.0-py3-none-any.whl (6.3 MB)\n",
      "Collecting jinja2\n",
      "  Using cached jinja2-3.1.6-py3-none-any.whl (134 kB)\n",
      "Collecting networkx\n",
      "  Using cached networkx-3.2.1-py3-none-any.whl (1.6 MB)\n",
      "Collecting MarkupSafe>=2.0\n",
      "  Using cached MarkupSafe-3.0.2-cp39-cp39-macosx_10_9_universal2.whl (14 kB)\n",
      "Collecting mpmath<1.4,>=1.1.0\n",
      "  Using cached mpmath-1.3.0-py3-none-any.whl (536 kB)\n",
      "Collecting regex!=2019.12.17\n",
      "  Downloading regex-2024.11.6-cp39-cp39-macosx_10_9_x86_64.whl (287 kB)\n",
      "\u001b[K     |████████████████████████████████| 287 kB 10.2 MB/s eta 0:00:01\n",
      "\u001b[?25hCollecting tokenizers<0.22,>=0.21\n",
      "  Downloading tokenizers-0.21.1-cp39-abi3-macosx_10_12_x86_64.whl (2.8 MB)\n",
      "\u001b[K     |████████████████████████████████| 2.8 MB 9.2 MB/s eta 0:00:01\n",
      "\u001b[?25hCollecting tomli>=2.0.1\n",
      "  Using cached tomli-2.2.1-py3-none-any.whl (14 kB)\n",
      "Requirement already satisfied: platformdirs>=3.5.1 in /Users/dilanacosta/Library/Python/3.9/lib/python/site-packages (from yapf->groundingdino==0.1.0) (4.3.8)\n",
      "Building wheels for collected packages: groundingdino, opencv-python\n",
      "  Building wheel for groundingdino (setup.py) ... \u001b[?25ldone\n",
      "\u001b[?25h  Created wheel for groundingdino: filename=groundingdino-0.1.0-py3-none-any.whl size=87898 sha256=74518c31f4eabf1609d685457be656e4fc71bdc564838de371de1bca74aef00a\n",
      "  Stored in directory: /private/var/folders/jv/c_5xb_f96f1fz7_838csts3m0000gn/T/pip-ephem-wheel-cache-snefl72z/wheels/89/54/a7/cc567d141ff1e323be581d7dea400822c4d81342bce3335c52\n",
      "  Building wheel for opencv-python (PEP 517) ... \u001b[?25l|^C\n",
      "Note: you may need to restart the kernel to use updated packages.\n"
     ]
    }
   ],
   "source": [
    "pip install git+https://github.com/IDEA-Research/GroundingDINO.git\n"
   ]
  },
  {
   "cell_type": "code",
   "execution_count": null,
   "metadata": {},
   "outputs": [],
   "source": [
    "pip install scikit-learn"
   ]
  },
  {
   "cell_type": "code",
   "execution_count": null,
   "metadata": {},
   "outputs": [],
   "source": [
    "pip install pandas"
   ]
  },
  {
   "cell_type": "code",
   "execution_count": 5,
   "metadata": {},
   "outputs": [
    {
     "name": "stdout",
     "output_type": "stream",
     "text": [
      "Defaulting to user installation because normal site-packages is not writeable\n",
      "Collecting numpy<2.0\n",
      "  Downloading numpy-1.26.4-cp39-cp39-macosx_10_9_x86_64.whl (20.6 MB)\n",
      "\u001b[K     |████████████████████████████████| 20.6 MB 28.6 MB/s eta 0:00:01   |████████████▊                   | 8.2 MB 5.4 MB/s eta 0:00:03     |█████████████                   | 8.4 MB 5.4 MB/s eta 0:00:03\n",
      "\u001b[?25hInstalling collected packages: numpy\n",
      "Successfully installed numpy-1.26.4\n",
      "\u001b[33mWARNING: You are using pip version 21.2.4; however, version 25.1.1 is available.\n",
      "You should consider upgrading via the '/Library/Developer/CommandLineTools/usr/bin/python3 -m pip install --upgrade pip' command.\u001b[0m\n",
      "Note: you may need to restart the kernel to use updated packages.\n"
     ]
    }
   ],
   "source": [
    "pip install \"numpy<2.0\"\n"
   ]
  },
  {
   "cell_type": "code",
   "execution_count": 4,
   "metadata": {},
   "outputs": [
    {
     "name": "stdout",
     "output_type": "stream",
     "text": [
      "Found existing installation: numpy 2.0.2\n",
      "Uninstalling numpy-2.0.2:\n",
      "  Successfully uninstalled numpy-2.0.2\n",
      "Note: you may need to restart the kernel to use updated packages.\n"
     ]
    }
   ],
   "source": [
    "pip uninstall numpy -y\n"
   ]
  },
  {
   "cell_type": "code",
   "execution_count": null,
   "metadata": {},
   "outputs": [],
   "source": [
    "pip install gradio\n"
   ]
  }
 ],
 "metadata": {
  "kernelspec": {
   "display_name": "Python 3",
   "language": "python",
   "name": "python3"
  },
  "language_info": {
   "codemirror_mode": {
    "name": "ipython",
    "version": 3
   },
   "file_extension": ".py",
   "mimetype": "text/x-python",
   "name": "python",
   "nbconvert_exporter": "python",
   "pygments_lexer": "ipython3",
   "version": "3.9.6"
  }
 },
 "nbformat": 4,
 "nbformat_minor": 2
}
